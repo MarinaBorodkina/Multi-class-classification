{
 "cells": [
  {
   "cell_type": "markdown",
   "metadata": {},
   "source": [
    "__Multi-class classification problem__\n",
    "\n",
    "\n",
    "Example of modeling for multiclass classification problem.\n",
    "\n",
    "Training and a test set are provided as csv files.\n",
    "\n",
    "Task: to classify last column that contains 4 classes: [0,1,2,3]."
   ]
  },
  {
   "cell_type": "markdown",
   "metadata": {},
   "source": [
    "__Table of contents:__\n",
    "    \n",
    "    \n",
    "* [1. Data Analysis](#DataAnalysis)\n",
    "    * [1.1. Train Data Exploration](#TrainDataExploration)\n",
    "    * [1.2. Test Data Exploration](#TestDataExploration)\n",
    "    * [1.3. Comparison Train And Test Data](#ComparisonTrainAndTestData)\n",
    "* [2. Preprocessing](#Preprocessing)\n",
    "* [3. Baseline Models](#BaselineModels)\n",
    "* [4. Model Tuning](#ModelTuning)\n",
    "    * [4.1. Scalers](#Scalers)\n",
    "    * [4.2. Model Parameters](#ModelParameters)\n",
    "* [5. Feature selection](#FeatureSelection)\n",
    "    * [5.1. Most Correlated](#MostCorrelated)\n",
    "    * [5.2. Most Important](#MostImportant)\n",
    "* [6. Final Conclusions](#FinalConclusions)    "
   ]
  },
  {
   "cell_type": "code",
   "execution_count": 1,
   "metadata": {
    "ExecuteTime": {
     "end_time": "2019-09-18T10:15:45.105225Z",
     "start_time": "2019-09-18T10:15:44.002510Z"
    }
   },
   "outputs": [],
   "source": [
    "# Import libraries\n",
    "import numpy as np\n",
    "import pandas as pd\n",
    "import math\n",
    "import timeit\n",
    "\n",
    "# Visualiazation\n",
    "from seaborn import countplot\n",
    "import matplotlib.pyplot as plt\n",
    "# import seaborn\n",
    "\n",
    "# Preprocessing\n",
    "from sklearn.preprocessing import MinMaxScaler, MaxAbsScaler\n",
    "from sklearn.preprocessing import StandardScaler, RobustScaler\n",
    "from sklearn.preprocessing import QuantileTransformer, PowerTransformer\n",
    "from sklearn.preprocessing import Normalizer\n",
    "from sklearn.preprocessing import Imputer, LabelBinarizer\n",
    "\n",
    "from imblearn.pipeline import Pipeline\n",
    "\n",
    "# Models and multiclasses support\n",
    "from sklearn.ensemble import RandomForestClassifier, GradientBoostingClassifier\n",
    "from sklearn.ensemble import GradientBoostingRegressor\n",
    "from sklearn.multiclass import OneVsOneClassifier, OutputCodeClassifier\n",
    "from sklearn.multioutput import MultiOutputRegressor, MultiOutputClassifier\n",
    "from sklearn.linear_model import RidgeClassifier, LogisticRegression\n",
    "from sklearn.svm import LinearSVC\n",
    "from sklearn.naive_bayes import GaussianNB\n",
    "from sklearn.tree import DecisionTreeClassifier\n",
    "from xgboost import XGBClassifier\n",
    "\n",
    "# Metrics\n",
    "from sklearn.metrics import roc_auc_score, f1_score, precision_score, recall_score\n",
    "\n",
    "# Model tuning\n",
    "from sklearn.model_selection import GridSearchCV\n",
    "\n",
    "# Import and suppress warnings\n",
    "import warnings\n",
    "warnings.filterwarnings('ignore')"
   ]
  },
  {
   "cell_type": "code",
   "execution_count": 2,
   "metadata": {
    "ExecuteTime": {
     "end_time": "2019-09-18T10:15:45.238776Z",
     "start_time": "2019-09-18T10:15:45.107741Z"
    }
   },
   "outputs": [
    {
     "data": {
      "text/html": [
       "<div>\n",
       "<style scoped>\n",
       "    .dataframe tbody tr th:only-of-type {\n",
       "        vertical-align: middle;\n",
       "    }\n",
       "\n",
       "    .dataframe tbody tr th {\n",
       "        vertical-align: top;\n",
       "    }\n",
       "\n",
       "    .dataframe thead th {\n",
       "        text-align: right;\n",
       "    }\n",
       "</style>\n",
       "<table border=\"1\" class=\"dataframe\">\n",
       "  <thead>\n",
       "    <tr style=\"text-align: right;\">\n",
       "      <th></th>\n",
       "      <th>0</th>\n",
       "      <th>1</th>\n",
       "      <th>2</th>\n",
       "      <th>3</th>\n",
       "      <th>4</th>\n",
       "      <th>5</th>\n",
       "      <th>6</th>\n",
       "      <th>7</th>\n",
       "      <th>8</th>\n",
       "      <th>9</th>\n",
       "      <th>...</th>\n",
       "      <th>56</th>\n",
       "      <th>57</th>\n",
       "      <th>58</th>\n",
       "      <th>59</th>\n",
       "      <th>60</th>\n",
       "      <th>61</th>\n",
       "      <th>62</th>\n",
       "      <th>63</th>\n",
       "      <th>64</th>\n",
       "      <th>65</th>\n",
       "    </tr>\n",
       "  </thead>\n",
       "  <tbody>\n",
       "    <tr>\n",
       "      <th>0</th>\n",
       "      <td>-47</td>\n",
       "      <td>0</td>\n",
       "      <td>-5</td>\n",
       "      <td>-27</td>\n",
       "      <td>-11</td>\n",
       "      <td>-19</td>\n",
       "      <td>-2</td>\n",
       "      <td>-33</td>\n",
       "      <td>37</td>\n",
       "      <td>0</td>\n",
       "      <td>...</td>\n",
       "      <td>0</td>\n",
       "      <td>2</td>\n",
       "      <td>-4</td>\n",
       "      <td>-3</td>\n",
       "      <td>4</td>\n",
       "      <td>-23</td>\n",
       "      <td>-68</td>\n",
       "      <td>15</td>\n",
       "      <td>C</td>\n",
       "      <td>0</td>\n",
       "    </tr>\n",
       "    <tr>\n",
       "      <th>1</th>\n",
       "      <td>1</td>\n",
       "      <td>1</td>\n",
       "      <td>-2</td>\n",
       "      <td>-3</td>\n",
       "      <td>-1</td>\n",
       "      <td>-3</td>\n",
       "      <td>39</td>\n",
       "      <td>10</td>\n",
       "      <td>0</td>\n",
       "      <td>-1</td>\n",
       "      <td>...</td>\n",
       "      <td>-7</td>\n",
       "      <td>-2</td>\n",
       "      <td>1</td>\n",
       "      <td>6</td>\n",
       "      <td>-2</td>\n",
       "      <td>4</td>\n",
       "      <td>22</td>\n",
       "      <td>2</td>\n",
       "      <td>C</td>\n",
       "      <td>0</td>\n",
       "    </tr>\n",
       "  </tbody>\n",
       "</table>\n",
       "<p>2 rows × 66 columns</p>\n",
       "</div>"
      ],
      "text/plain": [
       "   0   1   2   3   4   5   6   7   8   9  ...  56  57  58  59  60  61  62  63  \\\n",
       "0 -47   0  -5 -27 -11 -19  -2 -33  37   0 ...   0   2  -4  -3   4 -23 -68  15   \n",
       "1   1   1  -2  -3  -1  -3  39  10   0  -1 ...  -7  -2   1   6  -2   4  22   2   \n",
       "\n",
       "   64  65  \n",
       "0   C   0  \n",
       "1   C   0  \n",
       "\n",
       "[2 rows x 66 columns]"
      ]
     },
     "execution_count": 2,
     "metadata": {},
     "output_type": "execute_result"
    }
   ],
   "source": [
    "# Get train data\n",
    "train_data = pd.read_csv('train.csv', sep=',', header=None)\n",
    "# Get test data\n",
    "test_data = pd.read_csv('test.csv', sep=',', header=None)\n",
    "\n",
    "train_data.head(2)"
   ]
  },
  {
   "cell_type": "code",
   "execution_count": 3,
   "metadata": {
    "ExecuteTime": {
     "end_time": "2019-09-18T10:15:45.260764Z",
     "start_time": "2019-09-18T10:15:45.241023Z"
    }
   },
   "outputs": [
    {
     "data": {
      "text/html": [
       "<div>\n",
       "<style scoped>\n",
       "    .dataframe tbody tr th:only-of-type {\n",
       "        vertical-align: middle;\n",
       "    }\n",
       "\n",
       "    .dataframe tbody tr th {\n",
       "        vertical-align: top;\n",
       "    }\n",
       "\n",
       "    .dataframe thead th {\n",
       "        text-align: right;\n",
       "    }\n",
       "</style>\n",
       "<table border=\"1\" class=\"dataframe\">\n",
       "  <thead>\n",
       "    <tr style=\"text-align: right;\">\n",
       "      <th></th>\n",
       "      <th>0</th>\n",
       "      <th>1</th>\n",
       "      <th>2</th>\n",
       "      <th>3</th>\n",
       "      <th>4</th>\n",
       "      <th>5</th>\n",
       "      <th>6</th>\n",
       "      <th>7</th>\n",
       "      <th>8</th>\n",
       "      <th>9</th>\n",
       "      <th>...</th>\n",
       "      <th>56</th>\n",
       "      <th>57</th>\n",
       "      <th>58</th>\n",
       "      <th>59</th>\n",
       "      <th>60</th>\n",
       "      <th>61</th>\n",
       "      <th>62</th>\n",
       "      <th>63</th>\n",
       "      <th>64</th>\n",
       "      <th>65</th>\n",
       "    </tr>\n",
       "  </thead>\n",
       "  <tbody>\n",
       "    <tr>\n",
       "      <th>0</th>\n",
       "      <td>-47</td>\n",
       "      <td>0</td>\n",
       "      <td>-5</td>\n",
       "      <td>-27</td>\n",
       "      <td>-11.0</td>\n",
       "      <td>-19.0</td>\n",
       "      <td>-2.0</td>\n",
       "      <td>-33.0</td>\n",
       "      <td>37</td>\n",
       "      <td>0</td>\n",
       "      <td>...</td>\n",
       "      <td>0</td>\n",
       "      <td>2</td>\n",
       "      <td>-4</td>\n",
       "      <td>-3</td>\n",
       "      <td>4</td>\n",
       "      <td>-23</td>\n",
       "      <td>-68</td>\n",
       "      <td>15</td>\n",
       "      <td>A</td>\n",
       "      <td>0</td>\n",
       "    </tr>\n",
       "    <tr>\n",
       "      <th>1</th>\n",
       "      <td>1</td>\n",
       "      <td>1</td>\n",
       "      <td>-2</td>\n",
       "      <td>-3</td>\n",
       "      <td>-1.0</td>\n",
       "      <td>-3.0</td>\n",
       "      <td>39.0</td>\n",
       "      <td>10.0</td>\n",
       "      <td>0</td>\n",
       "      <td>-1</td>\n",
       "      <td>...</td>\n",
       "      <td>-7</td>\n",
       "      <td>-2</td>\n",
       "      <td>1</td>\n",
       "      <td>6</td>\n",
       "      <td>-2</td>\n",
       "      <td>4</td>\n",
       "      <td>22</td>\n",
       "      <td>2</td>\n",
       "      <td>C</td>\n",
       "      <td>0</td>\n",
       "    </tr>\n",
       "  </tbody>\n",
       "</table>\n",
       "<p>2 rows × 66 columns</p>\n",
       "</div>"
      ],
      "text/plain": [
       "   0   1   2   3     4     5     6     7   8   9  ...  56  57  58  59  60  61  \\\n",
       "0 -47   0  -5 -27 -11.0 -19.0  -2.0 -33.0  37   0 ...   0   2  -4  -3   4 -23   \n",
       "1   1   1  -2  -3  -1.0  -3.0  39.0  10.0   0  -1 ...  -7  -2   1   6  -2   4   \n",
       "\n",
       "   62  63  64  65  \n",
       "0 -68  15   A   0  \n",
       "1  22   2   C   0  \n",
       "\n",
       "[2 rows x 66 columns]"
      ]
     },
     "execution_count": 3,
     "metadata": {},
     "output_type": "execute_result"
    }
   ],
   "source": [
    "test_data.head(2)"
   ]
  },
  {
   "cell_type": "markdown",
   "metadata": {},
   "source": [
    "__NB: Matrix with numerical/categorical values__"
   ]
  },
  {
   "cell_type": "markdown",
   "metadata": {},
   "source": [
    "## Data Analysis <a class=\"anchor\" id=\"DataAnalysis\"></a>"
   ]
  },
  {
   "cell_type": "markdown",
   "metadata": {},
   "source": [
    "### Train Data Exploration <a class=\"anchor\" id=\"TrainDataExploration\"></a>"
   ]
  },
  {
   "cell_type": "code",
   "execution_count": 4,
   "metadata": {
    "ExecuteTime": {
     "end_time": "2019-09-18T10:15:45.266919Z",
     "start_time": "2019-09-18T10:15:45.263016Z"
    }
   },
   "outputs": [
    {
     "data": {
      "text/plain": [
       "(8678, 66)"
      ]
     },
     "execution_count": 4,
     "metadata": {},
     "output_type": "execute_result"
    }
   ],
   "source": [
    "# Shape of the data\n",
    "train_data.shape"
   ]
  },
  {
   "cell_type": "markdown",
   "metadata": {},
   "source": [
    "__NB: Train data matrix has 66 columns (65 features and target)__"
   ]
  },
  {
   "cell_type": "code",
   "execution_count": 5,
   "metadata": {
    "ExecuteTime": {
     "end_time": "2019-09-18T10:15:45.275434Z",
     "start_time": "2019-09-18T10:15:45.268943Z"
    }
   },
   "outputs": [
    {
     "data": {
      "text/plain": [
       "int64     65\n",
       "object     1\n",
       "dtype: int64"
      ]
     },
     "execution_count": 5,
     "metadata": {},
     "output_type": "execute_result"
    }
   ],
   "source": [
    "# Types of the columns\n",
    "# train_data.info()\n",
    "train_data.dtypes.value_counts()"
   ]
  },
  {
   "cell_type": "markdown",
   "metadata": {},
   "source": [
    "__NB: There are 64 numerical features, 1 categorical feature and 1 numerical target__"
   ]
  },
  {
   "cell_type": "code",
   "execution_count": 6,
   "metadata": {
    "ExecuteTime": {
     "end_time": "2019-09-18T10:15:45.483468Z",
     "start_time": "2019-09-18T10:15:45.277374Z"
    }
   },
   "outputs": [
    {
     "name": "stdout",
     "output_type": "stream",
     "text": [
      "-102.64615384615385 96.67692307692307 -7.184615384615385 5.8\n"
     ]
    },
    {
     "data": {
      "text/html": [
       "<div>\n",
       "<style scoped>\n",
       "    .dataframe tbody tr th:only-of-type {\n",
       "        vertical-align: middle;\n",
       "    }\n",
       "\n",
       "    .dataframe tbody tr th {\n",
       "        vertical-align: top;\n",
       "    }\n",
       "\n",
       "    .dataframe thead th {\n",
       "        text-align: right;\n",
       "    }\n",
       "</style>\n",
       "<table border=\"1\" class=\"dataframe\">\n",
       "  <thead>\n",
       "    <tr style=\"text-align: right;\">\n",
       "      <th></th>\n",
       "      <th>count</th>\n",
       "      <th>mean</th>\n",
       "      <th>std</th>\n",
       "      <th>min</th>\n",
       "      <th>25%</th>\n",
       "      <th>50%</th>\n",
       "      <th>75%</th>\n",
       "      <th>max</th>\n",
       "    </tr>\n",
       "  </thead>\n",
       "  <tbody>\n",
       "    <tr>\n",
       "      <th>0</th>\n",
       "      <td>8678.0</td>\n",
       "      <td>-0.540678</td>\n",
       "      <td>18.662137</td>\n",
       "      <td>-116.0</td>\n",
       "      <td>-9.0</td>\n",
       "      <td>-1.0</td>\n",
       "      <td>7.0</td>\n",
       "      <td>111.0</td>\n",
       "    </tr>\n",
       "    <tr>\n",
       "      <th>1</th>\n",
       "      <td>8678.0</td>\n",
       "      <td>-0.699931</td>\n",
       "      <td>11.767761</td>\n",
       "      <td>-104.0</td>\n",
       "      <td>-4.0</td>\n",
       "      <td>-1.0</td>\n",
       "      <td>3.0</td>\n",
       "      <td>90.0</td>\n",
       "    </tr>\n",
       "    <tr>\n",
       "      <th>2</th>\n",
       "      <td>8678.0</td>\n",
       "      <td>-0.738073</td>\n",
       "      <td>4.980516</td>\n",
       "      <td>-33.0</td>\n",
       "      <td>-3.0</td>\n",
       "      <td>-1.0</td>\n",
       "      <td>2.0</td>\n",
       "      <td>30.0</td>\n",
       "    </tr>\n",
       "    <tr>\n",
       "      <th>3</th>\n",
       "      <td>8678.0</td>\n",
       "      <td>-0.695322</td>\n",
       "      <td>7.457261</td>\n",
       "      <td>-75.0</td>\n",
       "      <td>-4.0</td>\n",
       "      <td>-1.0</td>\n",
       "      <td>3.0</td>\n",
       "      <td>55.0</td>\n",
       "    </tr>\n",
       "    <tr>\n",
       "      <th>4</th>\n",
       "      <td>8678.0</td>\n",
       "      <td>-0.290389</td>\n",
       "      <td>17.808756</td>\n",
       "      <td>-121.0</td>\n",
       "      <td>-10.0</td>\n",
       "      <td>0.0</td>\n",
       "      <td>10.0</td>\n",
       "      <td>92.0</td>\n",
       "    </tr>\n",
       "    <tr>\n",
       "      <th>5</th>\n",
       "      <td>8678.0</td>\n",
       "      <td>-0.584006</td>\n",
       "      <td>25.807365</td>\n",
       "      <td>-122.0</td>\n",
       "      <td>-15.0</td>\n",
       "      <td>-1.0</td>\n",
       "      <td>13.0</td>\n",
       "      <td>127.0</td>\n",
       "    </tr>\n",
       "    <tr>\n",
       "      <th>6</th>\n",
       "      <td>8678.0</td>\n",
       "      <td>-1.329339</td>\n",
       "      <td>25.108626</td>\n",
       "      <td>-128.0</td>\n",
       "      <td>-6.0</td>\n",
       "      <td>-1.0</td>\n",
       "      <td>4.0</td>\n",
       "      <td>127.0</td>\n",
       "    </tr>\n",
       "    <tr>\n",
       "      <th>7</th>\n",
       "      <td>8678.0</td>\n",
       "      <td>-0.711800</td>\n",
       "      <td>15.420846</td>\n",
       "      <td>-128.0</td>\n",
       "      <td>-8.0</td>\n",
       "      <td>-1.0</td>\n",
       "      <td>6.0</td>\n",
       "      <td>126.0</td>\n",
       "    </tr>\n",
       "    <tr>\n",
       "      <th>8</th>\n",
       "      <td>8678.0</td>\n",
       "      <td>-0.647154</td>\n",
       "      <td>18.198702</td>\n",
       "      <td>-110.0</td>\n",
       "      <td>-9.0</td>\n",
       "      <td>-1.0</td>\n",
       "      <td>6.0</td>\n",
       "      <td>127.0</td>\n",
       "    </tr>\n",
       "    <tr>\n",
       "      <th>9</th>\n",
       "      <td>8678.0</td>\n",
       "      <td>-0.569717</td>\n",
       "      <td>11.755683</td>\n",
       "      <td>-128.0</td>\n",
       "      <td>-4.0</td>\n",
       "      <td>-1.0</td>\n",
       "      <td>3.0</td>\n",
       "      <td>89.0</td>\n",
       "    </tr>\n",
       "  </tbody>\n",
       "</table>\n",
       "</div>"
      ],
      "text/plain": [
       "    count      mean        std    min   25%  50%   75%    max\n",
       "0  8678.0 -0.540678  18.662137 -116.0  -9.0 -1.0   7.0  111.0\n",
       "1  8678.0 -0.699931  11.767761 -104.0  -4.0 -1.0   3.0   90.0\n",
       "2  8678.0 -0.738073   4.980516  -33.0  -3.0 -1.0   2.0   30.0\n",
       "3  8678.0 -0.695322   7.457261  -75.0  -4.0 -1.0   3.0   55.0\n",
       "4  8678.0 -0.290389  17.808756 -121.0 -10.0  0.0  10.0   92.0\n",
       "5  8678.0 -0.584006  25.807365 -122.0 -15.0 -1.0  13.0  127.0\n",
       "6  8678.0 -1.329339  25.108626 -128.0  -6.0 -1.0   4.0  127.0\n",
       "7  8678.0 -0.711800  15.420846 -128.0  -8.0 -1.0   6.0  126.0\n",
       "8  8678.0 -0.647154  18.198702 -110.0  -9.0 -1.0   6.0  127.0\n",
       "9  8678.0 -0.569717  11.755683 -128.0  -4.0 -1.0   3.0   89.0"
      ]
     },
     "execution_count": 6,
     "metadata": {},
     "output_type": "execute_result"
    }
   ],
   "source": [
    "# Statistical information about numerical features\n",
    "num_stat = train_data.describe().T\n",
    "print(num_stat['min'].mean(), num_stat['max'].mean(), num_stat['25%'].mean(),\n",
    "      num_stat['75%'].mean())\n",
    "num_stat.head(10)"
   ]
  },
  {
   "cell_type": "markdown",
   "metadata": {},
   "source": [
    "__NB: Numerical features are integer, mostly in interval (-100, 100). The biggest part of values are in range (-7, 6)__"
   ]
  },
  {
   "cell_type": "code",
   "execution_count": 7,
   "metadata": {
    "ExecuteTime": {
     "end_time": "2019-09-18T10:15:45.490261Z",
     "start_time": "2019-09-18T10:15:45.485792Z"
    }
   },
   "outputs": [
    {
     "data": {
      "text/plain": [
       "[]"
      ]
     },
     "execution_count": 7,
     "metadata": {},
     "output_type": "execute_result"
    }
   ],
   "source": [
    "# Check columns w-o data\n",
    "num_stat.index[num_stat['count'] == 0].tolist()"
   ]
  },
  {
   "cell_type": "markdown",
   "metadata": {},
   "source": [
    "__NB: There are no empty columns__"
   ]
  },
  {
   "cell_type": "code",
   "execution_count": 8,
   "metadata": {
    "ExecuteTime": {
     "end_time": "2019-09-18T10:15:45.502460Z",
     "start_time": "2019-09-18T10:15:45.492528Z"
    }
   },
   "outputs": [
    {
     "data": {
      "text/plain": [
       "[]"
      ]
     },
     "execution_count": 8,
     "metadata": {},
     "output_type": "execute_result"
    }
   ],
   "source": [
    "# Check columns with missing values\n",
    "num_stat.index[(train_data.shape[0] - num_stat['count']) > 0].tolist()"
   ]
  },
  {
   "cell_type": "markdown",
   "metadata": {},
   "source": [
    "__NB: There are no columns with missing values__"
   ]
  },
  {
   "cell_type": "code",
   "execution_count": 9,
   "metadata": {
    "ExecuteTime": {
     "end_time": "2019-09-18T10:15:45.694792Z",
     "start_time": "2019-09-18T10:15:45.504703Z"
    }
   },
   "outputs": [
    {
     "name": "stdout",
     "output_type": "stream",
     "text": [
      "Share of the classes:\n",
      "2    25.37\n",
      "0    25.09\n",
      "1    24.80\n",
      "3    24.74\n",
      "Name: 65, dtype: float64\n"
     ]
    },
    {
     "data": {
      "text/plain": [
       "<matplotlib.axes._subplots.AxesSubplot at 0x7f3cf64a3fd0>"
      ]
     },
     "execution_count": 9,
     "metadata": {},
     "output_type": "execute_result"
    },
    {
     "data": {
      "image/png": "[encoded data removed]",
      "text/plain": [
       "<Figure size 432x288 with 1 Axes>"
      ]
     },
     "metadata": {
      "needs_background": "light"
     },
     "output_type": "display_data"
    }
   ],
   "source": [
    "# Check the share of the classes\n",
    "print('Share of the classes:')\n",
    "print(round(train_data[65].value_counts(normalize=True) * 100, 2))\n",
    "# Plot the distribution of the classes\n",
    "%matplotlib inline\n",
    "countplot(x=65, data=train_data)"
   ]
  },
  {
   "cell_type": "markdown",
   "metadata": {},
   "source": [
    "__NB: Classes are nicely balanced__"
   ]
  },
  {
   "cell_type": "code",
   "execution_count": 10,
   "metadata": {
    "ExecuteTime": {
     "end_time": "2019-09-18T10:15:45.735272Z",
     "start_time": "2019-09-18T10:15:45.698525Z"
    }
   },
   "outputs": [
    {
     "name": "stdout",
     "output_type": "stream",
     "text": [
      "D    2202\n",
      "C    2177\n",
      "A    2152\n",
      "B    2147\n",
      "Name: 64, dtype: int64\n",
      "2    2202\n",
      "0    2177\n",
      "1    2152\n",
      "3    2147\n",
      "Name: 65, dtype: int64\n",
      "D : 2    2202\n",
      "Name: 65, dtype: int64\n",
      "C : 0    2177\n",
      "Name: 65, dtype: int64\n",
      "A : 1    2152\n",
      "Name: 65, dtype: int64\n",
      "B : 3    2147\n",
      "Name: 65, dtype: int64\n"
     ]
    }
   ],
   "source": [
    "print(train_data[64].value_counts())\n",
    "print(train_data[65].value_counts())\n",
    "\n",
    "for l in train_data[64].value_counts().index:\n",
    "    print(l, ':', train_data[train_data[64] == l][65].value_counts())"
   ]
  },
  {
   "cell_type": "markdown",
   "metadata": {},
   "source": [
    "__NB: It looks like we have the same information about classes in the columns 64 and 65__"
   ]
  },
  {
   "cell_type": "code",
   "execution_count": 11,
   "metadata": {
    "ExecuteTime": {
     "end_time": "2019-09-18T10:15:46.117008Z",
     "start_time": "2019-09-18T10:15:45.737210Z"
    }
   },
   "outputs": [
    {
     "data": {
      "text/plain": [
       "<matplotlib.axes._subplots.AxesSubplot at 0x7f3cf65d7550>"
      ]
     },
     "execution_count": 11,
     "metadata": {},
     "output_type": "execute_result"
    },
    {
     "data": {
      "image/png": "[encoded data removed]",
      "text/plain": [
       "<Figure size 432x288 with 1 Axes>"
      ]
     },
     "metadata": {
      "needs_background": "light"
     },
     "output_type": "display_data"
    }
   ],
   "source": [
    "# Correlation\n",
    "corr = train_data.corr()\n",
    "# corr.style.background_gradient(cmap='coolwarm').set_precision(2)\n",
    "# seaborn.pairplot(train_data, palette='husl', diag_kind='kde', kind='reg')\n",
    "\n",
    "# Correlation to target variable\n",
    "corr_to_target = abs(corr[65].iloc[:-1].copy())\n",
    "corr_to_target.sort_values(ascending=False, inplace=True)\n",
    "# pd.DataFrame(corr_to_target[:13])\n",
    "\n",
    "corr_to_target[:35].plot(\n",
    "    kind='bar',\n",
    "    title='Correlation with target variable (Top 35 correlated features)')"
   ]
  },
  {
   "cell_type": "code",
   "execution_count": 12,
   "metadata": {
    "ExecuteTime": {
     "end_time": "2019-09-18T10:15:46.122328Z",
     "start_time": "2019-09-18T10:15:46.119166Z"
    }
   },
   "outputs": [],
   "source": [
    "# Features with the highest correlation to target\n",
    "correlated_features = corr_to_target[:13].index.tolist()"
   ]
  },
  {
   "cell_type": "markdown",
   "metadata": {},
   "source": [
    "__NB: There is some correlation between features and target variable - it is possible to solve the task linearly. 13 features are mostly correlated to target__"
   ]
  },
  {
   "cell_type": "code",
   "execution_count": 13,
   "metadata": {
    "ExecuteTime": {
     "end_time": "2019-09-18T10:15:47.799786Z",
     "start_time": "2019-09-18T10:15:46.124525Z"
    }
   },
   "outputs": [
    {
     "data": {
      "image/png": "[encoded data removed]",
      "text/plain": [
       "<Figure size 1080x432 with 15 Axes>"
      ]
     },
     "metadata": {
      "needs_background": "light"
     },
     "output_type": "display_data"
    }
   ],
   "source": [
    "# Distribution of values in most correlated features\n",
    "nplots, ncols, nrows = len(correlated_features), 5, int(\n",
    "    np.ceil(len(correlated_features) / 5))\n",
    "fig, axes = plt.subplots(\n",
    "    ncols=ncols, nrows=nrows, figsize=(15, int(10 * nrows / ncols)))\n",
    "fig.tight_layout(w_pad=3, h_pad=5)\n",
    "\n",
    "for n in range(0, len(correlated_features)):\n",
    "    ax = axes[n // ncols, n % ncols]\n",
    "    ax.set_title('{}'.format(correlated_features[n]))\n",
    "    train_data[correlated_features[n]].hist(\n",
    "        ax=ax, normed=True, xrot=90, alpha=0.5)"
   ]
  },
  {
   "cell_type": "markdown",
   "metadata": {},
   "source": [
    "__NB: Values are distributed mostly normally__"
   ]
  },
  {
   "cell_type": "markdown",
   "metadata": {},
   "source": [
    "### Test Data Exploration <a class=\"anchor\" id=\"TestDataExploration\"></a>"
   ]
  },
  {
   "cell_type": "code",
   "execution_count": 14,
   "metadata": {
    "ExecuteTime": {
     "end_time": "2019-09-18T10:15:47.806476Z",
     "start_time": "2019-09-18T10:15:47.802342Z"
    }
   },
   "outputs": [
    {
     "data": {
      "text/plain": [
       "(3000, 66)"
      ]
     },
     "execution_count": 14,
     "metadata": {},
     "output_type": "execute_result"
    }
   ],
   "source": [
    "test_data.shape"
   ]
  },
  {
   "cell_type": "code",
   "execution_count": 15,
   "metadata": {
    "ExecuteTime": {
     "end_time": "2019-09-18T10:15:47.815205Z",
     "start_time": "2019-09-18T10:15:47.808975Z"
    }
   },
   "outputs": [
    {
     "data": {
      "text/plain": [
       "int64      56\n",
       "float64     9\n",
       "object      1\n",
       "dtype: int64"
      ]
     },
     "execution_count": 15,
     "metadata": {},
     "output_type": "execute_result"
    }
   ],
   "source": [
    "test_data.dtypes.value_counts()"
   ]
  },
  {
   "cell_type": "markdown",
   "metadata": {},
   "source": [
    "__NB: Test data matrix has several different columns formats comparing with train data matrix (float instead of int)__"
   ]
  },
  {
   "cell_type": "code",
   "execution_count": 16,
   "metadata": {
    "ExecuteTime": {
     "end_time": "2019-09-18T10:15:47.979434Z",
     "start_time": "2019-09-18T10:15:47.817551Z"
    }
   },
   "outputs": [
    {
     "data": {
      "text/plain": [
       "[4, 5, 6, 7, 14, 17, 18, 19, 22]"
      ]
     },
     "execution_count": 16,
     "metadata": {},
     "output_type": "execute_result"
    }
   ],
   "source": [
    "test_num_stat = test_data.describe().T\n",
    "# Check columns with missing values in test data\n",
    "test_num_stat.index[(test_data.shape[0] - test_num_stat['count']) > 0].tolist()"
   ]
  },
  {
   "cell_type": "markdown",
   "metadata": {},
   "source": [
    "__NB: There are some missing (NaN) values in the test data__"
   ]
  },
  {
   "cell_type": "markdown",
   "metadata": {},
   "source": [
    "### Comparison Train And Test Data <a class=\"anchor\" id=\"ComparisonTrainAndTestData\"></a>"
   ]
  },
  {
   "cell_type": "code",
   "execution_count": 17,
   "metadata": {
    "ExecuteTime": {
     "end_time": "2019-09-18T10:15:48.024361Z",
     "start_time": "2019-09-18T10:15:47.981834Z"
    }
   },
   "outputs": [
    {
     "name": "stdout",
     "output_type": "stream",
     "text": [
      "Columns 0-63. Number of defferences:  12\n"
     ]
    }
   ],
   "source": [
    "# Compare test data and the top part of train data (without column 64 and target variable)\n",
    "num_differences = 0\n",
    "for i in range(0, 63):\n",
    "    num_differences = num_differences + sum(\n",
    "        train_data.loc[0:test_data.shape[0] - 1][i] != test_data[i])\n",
    "\n",
    "print('Columns 0-63. Number of defferences: ', num_differences)"
   ]
  },
  {
   "cell_type": "code",
   "execution_count": 18,
   "metadata": {
    "ExecuteTime": {
     "end_time": "2019-09-18T10:15:48.030935Z",
     "start_time": "2019-09-18T10:15:48.026636Z"
    }
   },
   "outputs": [
    {
     "name": "stdout",
     "output_type": "stream",
     "text": [
      "Column 65 (Target). Number of defferences:  0\n"
     ]
    }
   ],
   "source": [
    "# Compare for target column\n",
    "print('Column 65 (Target). Number of defferences: ',\n",
    "      sum(train_data.loc[0:test_data.shape[0] - 1][65] != test_data[65]))"
   ]
  },
  {
   "cell_type": "markdown",
   "metadata": {},
   "source": [
    "__NB: Top part of the train data matrix (without column number 64) almost fully identical to the train data matrix. There are only 12 diffeences__"
   ]
  },
  {
   "cell_type": "code",
   "execution_count": 19,
   "metadata": {
    "ExecuteTime": {
     "end_time": "2019-09-18T10:15:48.038201Z",
     "start_time": "2019-09-18T10:15:48.033316Z"
    }
   },
   "outputs": [
    {
     "name": "stdout",
     "output_type": "stream",
     "text": [
      "Column 64. Number of defferences:  2264\n"
     ]
    }
   ],
   "source": [
    "# Compare for column 64 (with letters A, B, C, D)\n",
    "print('Column 64. Number of defferences: ',\n",
    "      sum(train_data.loc[0:test_data.shape[0] - 1][64] != test_data[64]))"
   ]
  },
  {
   "cell_type": "markdown",
   "metadata": {},
   "source": [
    "__NB: Column 64 has a lot of differences in train and test sets__"
   ]
  },
  {
   "cell_type": "markdown",
   "metadata": {},
   "source": [
    "## Preprocessing <a class=\"anchor\" id=\"Preprocessing\"></a>"
   ]
  },
  {
   "cell_type": "markdown",
   "metadata": {},
   "source": [
    "__NB: Test data almost fully identical to the top part of the train data.__\n",
    "__Target variables in both sets have the same values. Column 64 is strange,__ \n",
    "__for train set it has doubled infomation with target (65) column.__\n",
    "__For test set column 64 has a lot of differences, comparing with train set,__\n",
    "__besides values in other columns almost fully identical.__\n",
    "\n",
    "__There is no sense to train and test data on th same datasets.__\n",
    "__Top part of the train set should be cutted.__\n",
    "__Column 64 excluded from train and test sets due to the reasons explained above.__"
   ]
  },
  {
   "cell_type": "code",
   "execution_count": 20,
   "metadata": {
    "ExecuteTime": {
     "end_time": "2019-09-18T10:15:48.050364Z",
     "start_time": "2019-09-18T10:15:48.040454Z"
    }
   },
   "outputs": [],
   "source": [
    "# Set for learning\n",
    "X_train = train_data.iloc[3000:-100, :64]\n",
    "y_train = train_data.iloc[3000:-100, 65:66]\n",
    "\n",
    "# Set for model/parameter tuning\n",
    "X_hold_out = train_data.iloc[-100:, :64]\n",
    "y_hold_out = train_data.iloc[-100:, 65:66]\n",
    "\n",
    "# Set for testing\n",
    "X_test = test_data.iloc[:, :64]\n",
    "y_test = test_data.iloc[:, 65:66]\n"
   ]
  },
  {
   "cell_type": "code",
   "execution_count": 21,
   "metadata": {
    "ExecuteTime": {
     "end_time": "2019-09-18T10:15:48.058044Z",
     "start_time": "2019-09-18T10:15:48.052522Z"
    }
   },
   "outputs": [
    {
     "name": "stdout",
     "output_type": "stream",
     "text": [
      "0    25.74\n",
      "2    25.08\n",
      "3    24.90\n",
      "1    24.27\n",
      "Name: 65, dtype: float64\n"
     ]
    }
   ],
   "source": [
    "# Double check for share of the classes in the new train dataset\n",
    "print(round(y_train[65].value_counts(normalize=True) * 100, 2))"
   ]
  },
  {
   "cell_type": "markdown",
   "metadata": {},
   "source": [
    "__NB: There are no missing values in the train data and few in the test data. Lets put Average value instead of missing. Normalising can be applied, due to the little bit different variation of the values in the columns. After normalization, outliers can be deleted with robust scaler__"
   ]
  },
  {
   "cell_type": "code",
   "execution_count": 22,
   "metadata": {
    "ExecuteTime": {
     "end_time": "2019-09-18T10:15:48.063504Z",
     "start_time": "2019-09-18T10:15:48.060465Z"
    }
   },
   "outputs": [],
   "source": [
    "# Normalization\n",
    "scaler = MinMaxScaler()\n",
    "# No outlier\n",
    "outlier = RobustScaler()\n",
    "# Average instead of the missing values\n",
    "imputer = Imputer(missing_values=np.NAN, axis=1)"
   ]
  },
  {
   "cell_type": "markdown",
   "metadata": {},
   "source": [
    "## Baseline Models <a class=\"anchor\" id=\"BaselineModels\"></a>"
   ]
  },
  {
   "cell_type": "markdown",
   "metadata": {},
   "source": [
    "__NB: Several baseline models, including LogRegression, RandomForest, NaiveBayes and XGBoost can be tested. Multiclasses should be taken into account__"
   ]
  },
  {
   "cell_type": "code",
   "execution_count": 23,
   "metadata": {
    "ExecuteTime": {
     "end_time": "2019-09-18T10:15:48.073155Z",
     "start_time": "2019-09-18T10:15:48.065538Z"
    }
   },
   "outputs": [],
   "source": [
    "# baseline models for multiclass classification \n",
    "m_list = [\n",
    "    ('One-Vs-One', OneVsOneClassifier(LinearSVC(random_state=0))),\n",
    "    ('Output-Code', OutputCodeClassifier(LinearSVC(random_state=0), code_size=2, random_state=0)),\n",
    "    ('GradientBoosting', MultiOutputRegressor(GradientBoostingRegressor(random_state=0))),\n",
    "    ('RandomForest', MultiOutputClassifier(RandomForestClassifier(random_state=1), n_jobs=-1)),\n",
    "    ('Ridge',  MultiOutputClassifier(RidgeClassifier(random_state=1), n_jobs=-1)),  \n",
    "    ('LogRegression', MultiOutputClassifier(LogisticRegression(random_state=1), n_jobs=-1)),\n",
    "    ('NaiveBayes', MultiOutputClassifier( GaussianNB(), n_jobs=-1)),\n",
    "    ('XGBoost', MultiOutputClassifier(XGBClassifier(random_state=1), n_jobs=-1)),\n",
    "    ('DecisionTree', MultiOutputClassifier(DecisionTreeClassifier(max_depth = 2), n_jobs=-1))\n",
    "]\n"
   ]
  },
  {
   "cell_type": "markdown",
   "metadata": {},
   "source": [
    "__NB: Best metric for classification problem is roc_auc. Additionally, precision, recall and f1 can be calculated__"
   ]
  },
  {
   "cell_type": "code",
   "execution_count": 24,
   "metadata": {
    "ExecuteTime": {
     "end_time": "2019-09-18T10:15:48.082099Z",
     "start_time": "2019-09-18T10:15:48.075310Z"
    }
   },
   "outputs": [],
   "source": [
    "# Metrics calculation for multiclass classification\n",
    "def MulticlassMetrics(y_test, y_pred, average='macro'):\n",
    "    ''' Function calculate metrics (roc_auc, f1, precision, recall) for multiclass task '''\n",
    "\n",
    "    # Convert predicted values to integer\n",
    "    y_pred = y_pred.astype('int32')\n",
    "\n",
    "    # Binarize labels in a one-vs-all fashion\n",
    "    lb = LabelBinarizer()\n",
    "    lb.fit(y_test)\n",
    "\n",
    "    # Transform multi-class labels to binary labels\n",
    "    y_test, y_pred = lb.transform(y_test), lb.transform(y_pred)\n",
    "\n",
    "    # Calculate metrics\n",
    "    roc_auc = roc_auc_score(y_test, y_pred, average=average)\n",
    "    f1 = f1_score(y_test, y_pred, average=average)\n",
    "    precision = precision_score(y_test, y_pred, average=average)\n",
    "    recall = recall_score(y_test, y_pred, average=average)\n",
    "\n",
    "    return round(roc_auc, 4), round(f1, 4), round(precision, 4), round(\n",
    "        recall, 4)"
   ]
  },
  {
   "cell_type": "code",
   "execution_count": 25,
   "metadata": {
    "ExecuteTime": {
     "end_time": "2019-09-18T10:15:48.090625Z",
     "start_time": "2019-09-18T10:15:48.084176Z"
    }
   },
   "outputs": [],
   "source": [
    "def SecondsToStr(time_taken):\n",
    "    ''' Function return time in convenient format (hours, minutes, seconds) '''\n",
    "\n",
    "    hours, rest = divmod(time_taken, 3600)\n",
    "    minutes, seconds = divmod(rest, 60)\n",
    "\n",
    "    return str(math.trunc(hours)) + ':' + str(math.trunc(minutes)) + ':' + str(\n",
    "        round(seconds, 2))"
   ]
  },
  {
   "cell_type": "code",
   "execution_count": 26,
   "metadata": {
    "ExecuteTime": {
     "end_time": "2019-09-18T10:15:48.099445Z",
     "start_time": "2019-09-18T10:15:48.092706Z"
    }
   },
   "outputs": [],
   "source": [
    "# Pipeline: Train and Predict\n",
    "def TrainAndPredict(X_train_,\n",
    "                    y_train_,\n",
    "                    X_test_,\n",
    "                    y_test_,\n",
    "                    imputer_,\n",
    "                    scaler_,\n",
    "                    outlier_,\n",
    "                    model_,\n",
    "                    model_name_,\n",
    "                    m_data=[]):\n",
    "    ''' Function teach the model, calculate metrics and return all the information in the dataframe '''\n",
    "\n",
    "    start = timeit.default_timer()\n",
    "\n",
    "    # Create pipeline\n",
    "    pipeline = Pipeline([('imputer', imputer_), ('scaler', scaler_),\n",
    "                         ('outlier', outlier_), (model_name_, model_)])\n",
    "\n",
    "    # Fit model and predict\n",
    "    y_pred_ = pipeline.fit(X_train_, y_train_).predict(X_test_)\n",
    "\n",
    "    # Calculate the metrics\n",
    "    roc_auc, f1, precision, recall = MulticlassMetrics(y_test_, y_pred_)\n",
    "\n",
    "    # Put information about the model to dataframe\n",
    "    m_data.append([\n",
    "        model_name_, roc_auc, f1, precision, recall,\n",
    "        SecondsToStr(timeit.default_timer() - start)\n",
    "    ])\n",
    "    m_df = pd.DataFrame.from_records(\n",
    "        m_data,\n",
    "        columns=['model', 'roc_auc', 'f1', 'precision', 'recall', 'time'])\n",
    "    m_df.sort_values(by=['roc_auc'], ascending=False, inplace=True)\n",
    "\n",
    "    return m_df"
   ]
  },
  {
   "cell_type": "code",
   "execution_count": 27,
   "metadata": {
    "ExecuteTime": {
     "end_time": "2019-09-18T10:16:13.762077Z",
     "start_time": "2019-09-18T10:15:48.101721Z"
    }
   },
   "outputs": [
    {
     "data": {
      "text/html": [
       "<div>\n",
       "<style scoped>\n",
       "    .dataframe tbody tr th:only-of-type {\n",
       "        vertical-align: middle;\n",
       "    }\n",
       "\n",
       "    .dataframe tbody tr th {\n",
       "        vertical-align: top;\n",
       "    }\n",
       "\n",
       "    .dataframe thead th {\n",
       "        text-align: right;\n",
       "    }\n",
       "</style>\n",
       "<table border=\"1\" class=\"dataframe\">\n",
       "  <thead>\n",
       "    <tr style=\"text-align: right;\">\n",
       "      <th></th>\n",
       "      <th>model</th>\n",
       "      <th>roc_auc</th>\n",
       "      <th>f1</th>\n",
       "      <th>precision</th>\n",
       "      <th>recall</th>\n",
       "      <th>time</th>\n",
       "    </tr>\n",
       "  </thead>\n",
       "  <tbody>\n",
       "    <tr>\n",
       "      <th>7</th>\n",
       "      <td>XGBoost</td>\n",
       "      <td>0.9517</td>\n",
       "      <td>0.9265</td>\n",
       "      <td>0.9265</td>\n",
       "      <td>0.9265</td>\n",
       "      <td>0:0:5.03</td>\n",
       "    </tr>\n",
       "    <tr>\n",
       "      <th>3</th>\n",
       "      <td>RandomForest</td>\n",
       "      <td>0.9514</td>\n",
       "      <td>0.9303</td>\n",
       "      <td>0.9375</td>\n",
       "      <td>0.9267</td>\n",
       "      <td>0:0:1.81</td>\n",
       "    </tr>\n",
       "    <tr>\n",
       "      <th>6</th>\n",
       "      <td>NaiveBayes</td>\n",
       "      <td>0.9391</td>\n",
       "      <td>0.9071</td>\n",
       "      <td>0.9091</td>\n",
       "      <td>0.9082</td>\n",
       "      <td>0:0:1.15</td>\n",
       "    </tr>\n",
       "    <tr>\n",
       "      <th>2</th>\n",
       "      <td>GradientBoosting</td>\n",
       "      <td>0.7275</td>\n",
       "      <td>0.5026</td>\n",
       "      <td>0.4641</td>\n",
       "      <td>0.5885</td>\n",
       "      <td>0:0:1.59</td>\n",
       "    </tr>\n",
       "    <tr>\n",
       "      <th>8</th>\n",
       "      <td>DecisionTree</td>\n",
       "      <td>0.6134</td>\n",
       "      <td>0.3163</td>\n",
       "      <td>0.3074</td>\n",
       "      <td>0.4128</td>\n",
       "      <td>0:0:1.13</td>\n",
       "    </tr>\n",
       "    <tr>\n",
       "      <th>0</th>\n",
       "      <td>One-Vs-One</td>\n",
       "      <td>0.5597</td>\n",
       "      <td>0.3477</td>\n",
       "      <td>0.3750</td>\n",
       "      <td>0.3402</td>\n",
       "      <td>0:0:3.9</td>\n",
       "    </tr>\n",
       "    <tr>\n",
       "      <th>1</th>\n",
       "      <td>Output-Code</td>\n",
       "      <td>0.5540</td>\n",
       "      <td>0.2295</td>\n",
       "      <td>0.3214</td>\n",
       "      <td>0.3276</td>\n",
       "      <td>0:0:8.2</td>\n",
       "    </tr>\n",
       "    <tr>\n",
       "      <th>5</th>\n",
       "      <td>LogRegression</td>\n",
       "      <td>0.5486</td>\n",
       "      <td>0.3243</td>\n",
       "      <td>0.3316</td>\n",
       "      <td>0.3227</td>\n",
       "      <td>0:0:1.52</td>\n",
       "    </tr>\n",
       "    <tr>\n",
       "      <th>4</th>\n",
       "      <td>Ridge</td>\n",
       "      <td>0.5485</td>\n",
       "      <td>0.3222</td>\n",
       "      <td>0.3267</td>\n",
       "      <td>0.3227</td>\n",
       "      <td>0:0:1.29</td>\n",
       "    </tr>\n",
       "  </tbody>\n",
       "</table>\n",
       "</div>"
      ],
      "text/plain": [
       "              model  roc_auc      f1  precision  recall      time\n",
       "7           XGBoost   0.9517  0.9265     0.9265  0.9265  0:0:5.03\n",
       "3      RandomForest   0.9514  0.9303     0.9375  0.9267  0:0:1.81\n",
       "6        NaiveBayes   0.9391  0.9071     0.9091  0.9082  0:0:1.15\n",
       "2  GradientBoosting   0.7275  0.5026     0.4641  0.5885  0:0:1.59\n",
       "8      DecisionTree   0.6134  0.3163     0.3074  0.4128  0:0:1.13\n",
       "0        One-Vs-One   0.5597  0.3477     0.3750  0.3402   0:0:3.9\n",
       "1       Output-Code   0.5540  0.2295     0.3214  0.3276   0:0:8.2\n",
       "5     LogRegression   0.5486  0.3243     0.3316  0.3227  0:0:1.52\n",
       "4             Ridge   0.5485  0.3222     0.3267  0.3227  0:0:1.29"
      ]
     },
     "execution_count": 27,
     "metadata": {},
     "output_type": "execute_result"
    }
   ],
   "source": [
    "# Testing of the baseline models\n",
    "m_data = []\n",
    "for model_name, model in m_list:\n",
    "    # print(model_name)\n",
    "    m_df = TrainAndPredict(X_train, y_train, X_hold_out, y_hold_out, imputer, scaler,\n",
    "                           outlier, model, model_name, m_data)\n",
    "\n",
    "m_df.head(m_df.shape[0])"
   ]
  },
  {
   "cell_type": "markdown",
   "metadata": {},
   "source": [
    "__NB: XGBoost has the best results for this classification problem__"
   ]
  },
  {
   "cell_type": "code",
   "execution_count": 28,
   "metadata": {
    "ExecuteTime": {
     "end_time": "2019-09-18T10:16:18.802686Z",
     "start_time": "2019-09-18T10:16:13.765141Z"
    }
   },
   "outputs": [
    {
     "data": {
      "text/html": [
       "<div>\n",
       "<style scoped>\n",
       "    .dataframe tbody tr th:only-of-type {\n",
       "        vertical-align: middle;\n",
       "    }\n",
       "\n",
       "    .dataframe tbody tr th {\n",
       "        vertical-align: top;\n",
       "    }\n",
       "\n",
       "    .dataframe thead th {\n",
       "        text-align: right;\n",
       "    }\n",
       "</style>\n",
       "<table border=\"1\" class=\"dataframe\">\n",
       "  <thead>\n",
       "    <tr style=\"text-align: right;\">\n",
       "      <th></th>\n",
       "      <th>model</th>\n",
       "      <th>roc_auc</th>\n",
       "      <th>f1</th>\n",
       "      <th>precision</th>\n",
       "      <th>recall</th>\n",
       "      <th>time</th>\n",
       "    </tr>\n",
       "  </thead>\n",
       "  <tbody>\n",
       "    <tr>\n",
       "      <th>0</th>\n",
       "      <td>Original XGBoost</td>\n",
       "      <td>0.9517</td>\n",
       "      <td>0.9265</td>\n",
       "      <td>0.9265</td>\n",
       "      <td>0.9265</td>\n",
       "      <td>0:0:5.03</td>\n",
       "    </tr>\n",
       "  </tbody>\n",
       "</table>\n",
       "</div>"
      ],
      "text/plain": [
       "              model  roc_auc      f1  precision  recall      time\n",
       "0  Original XGBoost   0.9517  0.9265     0.9265  0.9265  0:0:5.03"
      ]
     },
     "execution_count": 28,
     "metadata": {},
     "output_type": "execute_result"
    }
   ],
   "source": [
    "# Chosen model\n",
    "model_name = 'Original XGBoost'\n",
    "model = MultiOutputClassifier(XGBClassifier(random_state=1), n_jobs=-1)\n",
    "\n",
    "TrainAndPredict(X_train, y_train, X_hold_out, y_hold_out, imputer, scaler, outlier,\n",
    "                model, model_name, [])"
   ]
  },
  {
   "cell_type": "code",
   "execution_count": 29,
   "metadata": {
    "ExecuteTime": {
     "end_time": "2019-09-18T10:16:18.809843Z",
     "start_time": "2019-09-18T10:16:18.805227Z"
    }
   },
   "outputs": [
    {
     "data": {
      "text/plain": [
       "MultiOutputClassifier(estimator=XGBClassifier(base_score=0.5, booster='gbtree', colsample_bylevel=1,\n",
       "       colsample_bytree=1, gamma=0, learning_rate=0.1, max_delta_step=0,\n",
       "       max_depth=3, min_child_weight=1, missing=None, n_estimators=100,\n",
       "       n_jobs=1, nthread=None, objective='binary:logistic', random_state=1,\n",
       "       reg_alpha=0, reg_lambda=1, scale_pos_weight=1, seed=None,\n",
       "       silent=True, subsample=1),\n",
       "           n_jobs=-1)"
      ]
     },
     "execution_count": 29,
     "metadata": {},
     "output_type": "execute_result"
    }
   ],
   "source": [
    "# Description of the model\n",
    "model"
   ]
  },
  {
   "cell_type": "markdown",
   "metadata": {},
   "source": [
    "## Model Tuning <a class=\"anchor\" id=\"ModelTuning\"></a>"
   ]
  },
  {
   "cell_type": "markdown",
   "metadata": {},
   "source": [
    "### Scalers <a class=\"anchor\" id=\"Scalers\"></a>"
   ]
  },
  {
   "cell_type": "code",
   "execution_count": 30,
   "metadata": {
    "ExecuteTime": {
     "end_time": "2019-09-18T10:16:49.726943Z",
     "start_time": "2019-09-18T10:16:18.812320Z"
    }
   },
   "outputs": [
    {
     "data": {
      "text/html": [
       "<div>\n",
       "<style scoped>\n",
       "    .dataframe tbody tr th:only-of-type {\n",
       "        vertical-align: middle;\n",
       "    }\n",
       "\n",
       "    .dataframe tbody tr th {\n",
       "        vertical-align: top;\n",
       "    }\n",
       "\n",
       "    .dataframe thead th {\n",
       "        text-align: right;\n",
       "    }\n",
       "</style>\n",
       "<table border=\"1\" class=\"dataframe\">\n",
       "  <thead>\n",
       "    <tr style=\"text-align: right;\">\n",
       "      <th></th>\n",
       "      <th>model</th>\n",
       "      <th>roc_auc</th>\n",
       "      <th>f1</th>\n",
       "      <th>precision</th>\n",
       "      <th>recall</th>\n",
       "      <th>time</th>\n",
       "    </tr>\n",
       "  </thead>\n",
       "  <tbody>\n",
       "    <tr>\n",
       "      <th>3</th>\n",
       "      <td>Normalizer</td>\n",
       "      <td>0.9666</td>\n",
       "      <td>0.9477</td>\n",
       "      <td>0.9477</td>\n",
       "      <td>0.9495</td>\n",
       "      <td>0:0:8.34</td>\n",
       "    </tr>\n",
       "    <tr>\n",
       "      <th>0</th>\n",
       "      <td>MinMaxScaler</td>\n",
       "      <td>0.9517</td>\n",
       "      <td>0.9265</td>\n",
       "      <td>0.9265</td>\n",
       "      <td>0.9265</td>\n",
       "      <td>0:0:4.97</td>\n",
       "    </tr>\n",
       "    <tr>\n",
       "      <th>1</th>\n",
       "      <td>MaxAbsScale</td>\n",
       "      <td>0.9517</td>\n",
       "      <td>0.9265</td>\n",
       "      <td>0.9265</td>\n",
       "      <td>0.9265</td>\n",
       "      <td>0:0:4.04</td>\n",
       "    </tr>\n",
       "    <tr>\n",
       "      <th>2</th>\n",
       "      <td>StandardScaler</td>\n",
       "      <td>0.9517</td>\n",
       "      <td>0.9265</td>\n",
       "      <td>0.9265</td>\n",
       "      <td>0.9265</td>\n",
       "      <td>0:0:4.13</td>\n",
       "    </tr>\n",
       "    <tr>\n",
       "      <th>4</th>\n",
       "      <td>QuantileTransformer</td>\n",
       "      <td>0.9517</td>\n",
       "      <td>0.9265</td>\n",
       "      <td>0.9265</td>\n",
       "      <td>0.9265</td>\n",
       "      <td>0:0:4.41</td>\n",
       "    </tr>\n",
       "    <tr>\n",
       "      <th>5</th>\n",
       "      <td>PowerTransformer</td>\n",
       "      <td>0.9517</td>\n",
       "      <td>0.9265</td>\n",
       "      <td>0.9265</td>\n",
       "      <td>0.9265</td>\n",
       "      <td>0:0:4.99</td>\n",
       "    </tr>\n",
       "  </tbody>\n",
       "</table>\n",
       "</div>"
      ],
      "text/plain": [
       "                 model  roc_auc      f1  precision  recall      time\n",
       "3           Normalizer   0.9666  0.9477     0.9477  0.9495  0:0:8.34\n",
       "0         MinMaxScaler   0.9517  0.9265     0.9265  0.9265  0:0:4.97\n",
       "1          MaxAbsScale   0.9517  0.9265     0.9265  0.9265  0:0:4.04\n",
       "2       StandardScaler   0.9517  0.9265     0.9265  0.9265  0:0:4.13\n",
       "4  QuantileTransformer   0.9517  0.9265     0.9265  0.9265  0:0:4.41\n",
       "5     PowerTransformer   0.9517  0.9265     0.9265  0.9265  0:0:4.99"
      ]
     },
     "execution_count": 30,
     "metadata": {},
     "output_type": "execute_result"
    }
   ],
   "source": [
    "# Try different types of scalers\n",
    "scalers = [('MinMaxScaler', MinMaxScaler()), ('MaxAbsScale', MaxAbsScaler()),\n",
    "           ('StandardScaler', StandardScaler()), ('Normalizer', Normalizer()),\n",
    "           ('QuantileTransformer', QuantileTransformer()),\n",
    "           ('PowerTransformer', PowerTransformer())]\n",
    "\n",
    "s_data = []\n",
    "for scaler_name, scaler in scalers:\n",
    "    s_df = TrainAndPredict(X_train, y_train, X_hold_out, y_hold_out, imputer, scaler,\n",
    "                           outlier, model, scaler_name, s_data)\n",
    "s_df.head(s_df.shape[0])"
   ]
  },
  {
   "cell_type": "code",
   "execution_count": 31,
   "metadata": {
    "ExecuteTime": {
     "end_time": "2019-09-18T10:16:58.088077Z",
     "start_time": "2019-09-18T10:16:49.730648Z"
    }
   },
   "outputs": [
    {
     "data": {
      "text/html": [
       "<div>\n",
       "<style scoped>\n",
       "    .dataframe tbody tr th:only-of-type {\n",
       "        vertical-align: middle;\n",
       "    }\n",
       "\n",
       "    .dataframe tbody tr th {\n",
       "        vertical-align: top;\n",
       "    }\n",
       "\n",
       "    .dataframe thead th {\n",
       "        text-align: right;\n",
       "    }\n",
       "</style>\n",
       "<table border=\"1\" class=\"dataframe\">\n",
       "  <thead>\n",
       "    <tr style=\"text-align: right;\">\n",
       "      <th></th>\n",
       "      <th>model</th>\n",
       "      <th>roc_auc</th>\n",
       "      <th>f1</th>\n",
       "      <th>precision</th>\n",
       "      <th>recall</th>\n",
       "      <th>time</th>\n",
       "    </tr>\n",
       "  </thead>\n",
       "  <tbody>\n",
       "    <tr>\n",
       "      <th>0</th>\n",
       "      <td>Original XGBoost</td>\n",
       "      <td>0.9666</td>\n",
       "      <td>0.9477</td>\n",
       "      <td>0.9477</td>\n",
       "      <td>0.9495</td>\n",
       "      <td>0:0:8.34</td>\n",
       "    </tr>\n",
       "  </tbody>\n",
       "</table>\n",
       "</div>"
      ],
      "text/plain": [
       "              model  roc_auc      f1  precision  recall      time\n",
       "0  Original XGBoost   0.9666  0.9477     0.9477  0.9495  0:0:8.34"
      ]
     },
     "execution_count": 31,
     "metadata": {},
     "output_type": "execute_result"
    }
   ],
   "source": [
    "# Chosen scaler\n",
    "best_scaler = Normalizer()\n",
    "\n",
    "TrainAndPredict(X_train, y_train, X_hold_out, y_hold_out, imputer, best_scaler,\n",
    "                outlier, model, model_name, [])"
   ]
  },
  {
   "cell_type": "markdown",
   "metadata": {},
   "source": [
    "__NB: Normalizer is the best scaler for this task__"
   ]
  },
  {
   "cell_type": "markdown",
   "metadata": {},
   "source": [
    "### Model Parameters <a class=\"anchor\" id=\"ModelParameters\"></a>"
   ]
  },
  {
   "cell_type": "code",
   "execution_count": 32,
   "metadata": {
    "ExecuteTime": {
     "end_time": "2019-09-18T10:16:58.095759Z",
     "start_time": "2019-09-18T10:16:58.090946Z"
    }
   },
   "outputs": [
    {
     "data": {
      "text/plain": [
       "dict_keys(['base_score', 'booster', 'colsample_bylevel', 'colsample_bytree', 'gamma', 'learning_rate', 'max_delta_step', 'max_depth', 'min_child_weight', 'missing', 'n_estimators', 'n_jobs', 'nthread', 'objective', 'random_state', 'reg_alpha', 'reg_lambda', 'scale_pos_weight', 'seed', 'silent', 'subsample'])"
      ]
     },
     "execution_count": 32,
     "metadata": {},
     "output_type": "execute_result"
    }
   ],
   "source": [
    "# XGBoost list of the params\n",
    "XGBClassifier().get_params().keys()"
   ]
  },
  {
   "cell_type": "code",
   "execution_count": 33,
   "metadata": {
    "ExecuteTime": {
     "end_time": "2019-09-18T10:38:16.121224Z",
     "start_time": "2019-09-18T10:16:58.098016Z"
    }
   },
   "outputs": [
    {
     "name": "stdout",
     "output_type": "stream",
     "text": [
      "Time:  0:21:18.0\n"
     ]
    },
    {
     "data": {
      "text/html": [
       "<div>\n",
       "<style scoped>\n",
       "    .dataframe tbody tr th:only-of-type {\n",
       "        vertical-align: middle;\n",
       "    }\n",
       "\n",
       "    .dataframe tbody tr th {\n",
       "        vertical-align: top;\n",
       "    }\n",
       "\n",
       "    .dataframe thead th {\n",
       "        text-align: right;\n",
       "    }\n",
       "</style>\n",
       "<table border=\"1\" class=\"dataframe\">\n",
       "  <thead>\n",
       "    <tr style=\"text-align: right;\">\n",
       "      <th></th>\n",
       "      <th>model</th>\n",
       "      <th>roc_auc</th>\n",
       "      <th>f1</th>\n",
       "      <th>precision</th>\n",
       "      <th>recall</th>\n",
       "      <th>time</th>\n",
       "    </tr>\n",
       "  </thead>\n",
       "  <tbody>\n",
       "    <tr>\n",
       "      <th>17</th>\n",
       "      <td>8-0.5-300</td>\n",
       "      <td>0.9863</td>\n",
       "      <td>0.9786</td>\n",
       "      <td>0.9794</td>\n",
       "      <td>0.9792</td>\n",
       "      <td>0:0:53.56</td>\n",
       "    </tr>\n",
       "    <tr>\n",
       "      <th>26</th>\n",
       "      <td>8-0.5-500</td>\n",
       "      <td>0.9787</td>\n",
       "      <td>0.9674</td>\n",
       "      <td>0.9680</td>\n",
       "      <td>0.9673</td>\n",
       "      <td>0:1:6.95</td>\n",
       "    </tr>\n",
       "    <tr>\n",
       "      <th>23</th>\n",
       "      <td>4-0.5-500</td>\n",
       "      <td>0.9787</td>\n",
       "      <td>0.9674</td>\n",
       "      <td>0.9680</td>\n",
       "      <td>0.9673</td>\n",
       "      <td>0:0:47.2</td>\n",
       "    </tr>\n",
       "    <tr>\n",
       "      <th>2</th>\n",
       "      <td>3-0.5-100</td>\n",
       "      <td>0.9735</td>\n",
       "      <td>0.9580</td>\n",
       "      <td>0.9574</td>\n",
       "      <td>0.9599</td>\n",
       "      <td>0:0:7.48</td>\n",
       "    </tr>\n",
       "    <tr>\n",
       "      <th>5</th>\n",
       "      <td>4-0.5-100</td>\n",
       "      <td>0.9735</td>\n",
       "      <td>0.9580</td>\n",
       "      <td>0.9574</td>\n",
       "      <td>0.9599</td>\n",
       "      <td>0:0:9.72</td>\n",
       "    </tr>\n",
       "  </tbody>\n",
       "</table>\n",
       "</div>"
      ],
      "text/plain": [
       "        model  roc_auc      f1  precision  recall       time\n",
       "17  8-0.5-300   0.9863  0.9786     0.9794  0.9792  0:0:53.56\n",
       "26  8-0.5-500   0.9787  0.9674     0.9680  0.9673   0:1:6.95\n",
       "23  4-0.5-500   0.9787  0.9674     0.9680  0.9673   0:0:47.2\n",
       "2   3-0.5-100   0.9735  0.9580     0.9574  0.9599   0:0:7.48\n",
       "5   4-0.5-100   0.9735  0.9580     0.9574  0.9599   0:0:9.72"
      ]
     },
     "execution_count": 33,
     "metadata": {},
     "output_type": "execute_result"
    }
   ],
   "source": [
    "# Tune the model parameters with checking on test dataset\n",
    "start = timeit.default_timer()\n",
    "\n",
    "p_data = []\n",
    "for n_estimators in [100, 300, 500]:\n",
    "    for max_depht in [3, 4, 8]:\n",
    "        for learning_rate in [0.001, 0.01, 0.5]:\n",
    "            model = XGBClassifier(\n",
    "                learning_rate=learning_rate,\n",
    "                max_depth=max_depht,\n",
    "                n_estimators=n_estimators,\n",
    "                random_state=1)\n",
    "            param_set = str(max_depht) + '-' + str(learning_rate) + '-' + str(\n",
    "                n_estimators)\n",
    "            p_df = TrainAndPredict(X_train, y_train, X_hold_out, y_hold_out, imputer,\n",
    "                                   best_scaler, outlier, model, param_set,\n",
    "                                   p_data)\n",
    "            # print(p_data[len(p_data)-1])\n",
    "\n",
    "print('Time: ', SecondsToStr(timeit.default_timer() - start))\n",
    "p_df.head(5)"
   ]
  },
  {
   "cell_type": "code",
   "execution_count": 34,
   "metadata": {
    "ExecuteTime": {
     "end_time": "2019-09-18T10:38:16.131693Z",
     "start_time": "2019-09-18T10:38:16.124124Z"
    }
   },
   "outputs": [
    {
     "data": {
      "text/plain": [
       "17    8-0.5-300\n",
       "Name: model, dtype: object"
      ]
     },
     "execution_count": 34,
     "metadata": {},
     "output_type": "execute_result"
    }
   ],
   "source": [
    "# Best parameters (max_depht - learning_rate - n_estimators)\n",
    "best_params = p_df[p_df['roc_auc'] == p_df['roc_auc'].max()]['model']\n",
    "best_params"
   ]
  },
  {
   "cell_type": "code",
   "execution_count": 35,
   "metadata": {
    "ExecuteTime": {
     "end_time": "2019-09-18T10:39:16.272908Z",
     "start_time": "2019-09-18T10:38:16.134525Z"
    }
   },
   "outputs": [
    {
     "data": {
      "text/html": [
       "<div>\n",
       "<style scoped>\n",
       "    .dataframe tbody tr th:only-of-type {\n",
       "        vertical-align: middle;\n",
       "    }\n",
       "\n",
       "    .dataframe tbody tr th {\n",
       "        vertical-align: top;\n",
       "    }\n",
       "\n",
       "    .dataframe thead th {\n",
       "        text-align: right;\n",
       "    }\n",
       "</style>\n",
       "<table border=\"1\" class=\"dataframe\">\n",
       "  <thead>\n",
       "    <tr style=\"text-align: right;\">\n",
       "      <th></th>\n",
       "      <th>model</th>\n",
       "      <th>roc_auc</th>\n",
       "      <th>f1</th>\n",
       "      <th>precision</th>\n",
       "      <th>recall</th>\n",
       "      <th>time</th>\n",
       "    </tr>\n",
       "  </thead>\n",
       "  <tbody>\n",
       "    <tr>\n",
       "      <th>0</th>\n",
       "      <td>Best XGBoost</td>\n",
       "      <td>0.9863</td>\n",
       "      <td>0.9786</td>\n",
       "      <td>0.9794</td>\n",
       "      <td>0.9792</td>\n",
       "      <td>0:1:0.12</td>\n",
       "    </tr>\n",
       "  </tbody>\n",
       "</table>\n",
       "</div>"
      ],
      "text/plain": [
       "          model  roc_auc      f1  precision  recall      time\n",
       "0  Best XGBoost   0.9863  0.9786     0.9794  0.9792  0:1:0.12"
      ]
     },
     "execution_count": 35,
     "metadata": {},
     "output_type": "execute_result"
    }
   ],
   "source": [
    "# Set best scaler and optimal parameters for XGBoost model\n",
    "best_scaler = Normalizer()\n",
    "\n",
    "best_model = MultiOutputClassifier(\n",
    "    XGBClassifier(\n",
    "        max_depth=8, learning_rate=0.5, n_estimators=300, random_state=1),\n",
    "    n_jobs=-1)\n",
    "\n",
    "# Calculate metrics for the model with optimal scaler and parameters\n",
    "TrainAndPredict(X_train, y_train, X_hold_out, y_hold_out, imputer, best_scaler,\n",
    "                outlier, best_model, 'Best XGBoost', [])"
   ]
  },
  {
   "cell_type": "markdown",
   "metadata": {},
   "source": [
    "## Feature Selection <a class=\"anchor\" id=\"FeatureSelection\"></a>"
   ]
  },
  {
   "cell_type": "markdown",
   "metadata": {},
   "source": [
    "### Most Correlated <a class=\"anchor\" id=\"MostCorrelated\"></a>"
   ]
  },
  {
   "cell_type": "code",
   "execution_count": 36,
   "metadata": {
    "ExecuteTime": {
     "end_time": "2019-09-18T10:39:16.279981Z",
     "start_time": "2019-09-18T10:39:16.275469Z"
    }
   },
   "outputs": [
    {
     "data": {
      "text/plain": [
       "[54, 38, 46, 14, 6, 22, 31, 30, 62, 58, 5, 32, 63]"
      ]
     },
     "execution_count": 36,
     "metadata": {},
     "output_type": "execute_result"
    }
   ],
   "source": [
    "correlated_features"
   ]
  },
  {
   "cell_type": "code",
   "execution_count": 37,
   "metadata": {
    "ExecuteTime": {
     "end_time": "2019-09-18T10:39:46.501993Z",
     "start_time": "2019-09-18T10:39:16.282412Z"
    }
   },
   "outputs": [
    {
     "data": {
      "text/html": [
       "<div>\n",
       "<style scoped>\n",
       "    .dataframe tbody tr th:only-of-type {\n",
       "        vertical-align: middle;\n",
       "    }\n",
       "\n",
       "    .dataframe tbody tr th {\n",
       "        vertical-align: top;\n",
       "    }\n",
       "\n",
       "    .dataframe thead th {\n",
       "        text-align: right;\n",
       "    }\n",
       "</style>\n",
       "<table border=\"1\" class=\"dataframe\">\n",
       "  <thead>\n",
       "    <tr style=\"text-align: right;\">\n",
       "      <th></th>\n",
       "      <th>model</th>\n",
       "      <th>roc_auc</th>\n",
       "      <th>f1</th>\n",
       "      <th>precision</th>\n",
       "      <th>recall</th>\n",
       "      <th>time</th>\n",
       "    </tr>\n",
       "  </thead>\n",
       "  <tbody>\n",
       "    <tr>\n",
       "      <th>0</th>\n",
       "      <td>Best XGBoost (correlated only)</td>\n",
       "      <td>0.7944</td>\n",
       "      <td>0.6891</td>\n",
       "      <td>0.6909</td>\n",
       "      <td>0.6883</td>\n",
       "      <td>0:0:30.2</td>\n",
       "    </tr>\n",
       "  </tbody>\n",
       "</table>\n",
       "</div>"
      ],
      "text/plain": [
       "                            model  roc_auc      f1  precision  recall  \\\n",
       "0  Best XGBoost (correlated only)   0.7944  0.6891     0.6909  0.6883   \n",
       "\n",
       "       time  \n",
       "0  0:0:30.2  "
      ]
     },
     "execution_count": 37,
     "metadata": {},
     "output_type": "execute_result"
    }
   ],
   "source": [
    "# Calculate metrics for the best model, for important features only\n",
    "TrainAndPredict(X_train[correlated_features], y_train,\n",
    "                X_hold_out[correlated_features], y_hold_out,\n",
    "                imputer, best_scaler,\n",
    "                outlier, best_model,\n",
    "                'Best XGBoost (correlated only)', [])"
   ]
  },
  {
   "cell_type": "markdown",
   "metadata": {},
   "source": [
    "### Most Important <a class=\"anchor\" id=\"MostImportant\"></a>"
   ]
  },
  {
   "cell_type": "code",
   "execution_count": 38,
   "metadata": {
    "ExecuteTime": {
     "end_time": "2019-09-18T10:40:22.825515Z",
     "start_time": "2019-09-18T10:39:46.508323Z"
    }
   },
   "outputs": [
    {
     "data": {
      "text/plain": [
       "<matplotlib.axes._subplots.AxesSubplot at 0x7f3cdc182630>"
      ]
     },
     "execution_count": 38,
     "metadata": {},
     "output_type": "execute_result"
    },
    {
     "data": {
      "image/png": "[encoded data removed]",
      "text/plain": [
       "<Figure size 432x288 with 1 Axes>"
      ]
     },
     "metadata": {
      "needs_background": "light"
     },
     "output_type": "display_data"
    }
   ],
   "source": [
    "# Fit the best model and find the best features of it\n",
    "best_model.fit(X_train, y_train)\n",
    "for model in best_model.estimators_:\n",
    "    importances = model.feature_importances_\n",
    "\n",
    "feature_importances = pd.Series(\n",
    "    importances,\n",
    "    index=[i for i in X_train.columns]).sort_values(ascending=False)\n",
    "\n",
    "# Visualization\n",
    "feature_importances[0:35].plot(kind='bar', title='Feature Importances')"
   ]
  },
  {
   "cell_type": "markdown",
   "metadata": {},
   "source": [
    "__NB: First 16 features are the most important features__"
   ]
  },
  {
   "cell_type": "code",
   "execution_count": 39,
   "metadata": {
    "ExecuteTime": {
     "end_time": "2019-09-18T10:40:22.836615Z",
     "start_time": "2019-09-18T10:40:22.829548Z"
    }
   },
   "outputs": [
    {
     "data": {
      "text/plain": [
       "Int64Index([46, 30, 54, 6, 62, 22, 14, 38, 61, 53, 37, 5, 13, 21, 45, 29], dtype='int64')"
      ]
     },
     "execution_count": 39,
     "metadata": {},
     "output_type": "execute_result"
    }
   ],
   "source": [
    "feature_importances.index[:16]"
   ]
  },
  {
   "cell_type": "markdown",
   "metadata": {},
   "source": [
    "__NB: Features: 22, 54, 38, 14, 6, 30, 46 are in the both lists. They are important and mostly correlated to target variable__"
   ]
  },
  {
   "cell_type": "code",
   "execution_count": 40,
   "metadata": {
    "ExecuteTime": {
     "end_time": "2019-09-18T10:40:55.621573Z",
     "start_time": "2019-09-18T10:40:22.841396Z"
    }
   },
   "outputs": [
    {
     "data": {
      "text/html": [
       "<div>\n",
       "<style scoped>\n",
       "    .dataframe tbody tr th:only-of-type {\n",
       "        vertical-align: middle;\n",
       "    }\n",
       "\n",
       "    .dataframe tbody tr th {\n",
       "        vertical-align: top;\n",
       "    }\n",
       "\n",
       "    .dataframe thead th {\n",
       "        text-align: right;\n",
       "    }\n",
       "</style>\n",
       "<table border=\"1\" class=\"dataframe\">\n",
       "  <thead>\n",
       "    <tr style=\"text-align: right;\">\n",
       "      <th></th>\n",
       "      <th>model</th>\n",
       "      <th>roc_auc</th>\n",
       "      <th>f1</th>\n",
       "      <th>precision</th>\n",
       "      <th>recall</th>\n",
       "      <th>time</th>\n",
       "    </tr>\n",
       "  </thead>\n",
       "  <tbody>\n",
       "    <tr>\n",
       "      <th>0</th>\n",
       "      <td>Best XGBoost (important only)</td>\n",
       "      <td>0.7939</td>\n",
       "      <td>0.692</td>\n",
       "      <td>0.7025</td>\n",
       "      <td>0.6875</td>\n",
       "      <td>0:0:32.77</td>\n",
       "    </tr>\n",
       "  </tbody>\n",
       "</table>\n",
       "</div>"
      ],
      "text/plain": [
       "                           model  roc_auc     f1  precision  recall       time\n",
       "0  Best XGBoost (important only)   0.7939  0.692     0.7025  0.6875  0:0:32.77"
      ]
     },
     "execution_count": 40,
     "metadata": {},
     "output_type": "execute_result"
    }
   ],
   "source": [
    "# Calculate metrics for the best model, for important features only\n",
    "TrainAndPredict(X_train[feature_importances.index[:16]], y_train,\n",
    "                X_hold_out[feature_importances.index[:16]], y_hold_out, \n",
    "                imputer, best_scaler, outlier, best_model,\n",
    "                'Best XGBoost (important only)', [])"
   ]
  },
  {
   "cell_type": "markdown",
   "metadata": {},
   "source": [
    "__NB: Feature selection can reduce calculation time significantly, but accuracy of forecasting reducing as well (about 10%-20% drop)__"
   ]
  },
  {
   "cell_type": "markdown",
   "metadata": {},
   "source": [
    "## Final Conclusions <a class=\"anchor\" id=\"FinalConclusions\"></a>"
   ]
  },
  {
   "cell_type": "code",
   "execution_count": 41,
   "metadata": {
    "ExecuteTime": {
     "end_time": "2019-09-18T10:41:46.035761Z",
     "start_time": "2019-09-18T10:40:55.623512Z"
    }
   },
   "outputs": [
    {
     "data": {
      "text/html": [
       "<div>\n",
       "<style scoped>\n",
       "    .dataframe tbody tr th:only-of-type {\n",
       "        vertical-align: middle;\n",
       "    }\n",
       "\n",
       "    .dataframe tbody tr th {\n",
       "        vertical-align: top;\n",
       "    }\n",
       "\n",
       "    .dataframe thead th {\n",
       "        text-align: right;\n",
       "    }\n",
       "</style>\n",
       "<table border=\"1\" class=\"dataframe\">\n",
       "  <thead>\n",
       "    <tr style=\"text-align: right;\">\n",
       "      <th></th>\n",
       "      <th>model</th>\n",
       "      <th>roc_auc</th>\n",
       "      <th>f1</th>\n",
       "      <th>precision</th>\n",
       "      <th>recall</th>\n",
       "      <th>time</th>\n",
       "    </tr>\n",
       "  </thead>\n",
       "  <tbody>\n",
       "    <tr>\n",
       "      <th>0</th>\n",
       "      <td>Best XGBoost (test)</td>\n",
       "      <td>0.9733</td>\n",
       "      <td>0.96</td>\n",
       "      <td>0.9601</td>\n",
       "      <td>0.96</td>\n",
       "      <td>0:0:50.4</td>\n",
       "    </tr>\n",
       "  </tbody>\n",
       "</table>\n",
       "</div>"
      ],
      "text/plain": [
       "                 model  roc_auc    f1  precision  recall      time\n",
       "0  Best XGBoost (test)   0.9733  0.96     0.9601    0.96  0:0:50.4"
      ]
     },
     "execution_count": 41,
     "metadata": {},
     "output_type": "execute_result"
    }
   ],
   "source": [
    "# Final check on test set\n",
    "TrainAndPredict(X_train, y_train, X_test, y_test, imputer, best_scaler,\n",
    "                outlier, best_model, 'Best XGBoost (test)', [])"
   ]
  },
  {
   "cell_type": "markdown",
   "metadata": {},
   "source": [
    "__For this classification task were chosen:__\n",
    "- scaler: Normalizer\n",
    "- model: XGBoost (with optimal parameters)\n",
    "- metrics: roc_auc (and additionally: f1, precision, recall)\n",
    "    \n",
    "__Resuts are presented in the table bellow:__\n",
    "\n",
    "num|test set|roc_auc|f1\n",
    "------|------|------|------\n",
    "1|test|0.9733|0.9600"
   ]
  }
 ],
 "metadata": {
  "kernelspec": {
   "display_name": "Python 3",
   "language": "python",
   "name": "python3"
  },
  "language_info": {
   "codemirror_mode": {
    "name": "ipython",
    "version": 3
   },
   "file_extension": ".py",
   "mimetype": "text/x-python",
   "name": "python",
   "nbconvert_exporter": "python",
   "pygments_lexer": "ipython3",
   "version": "3.6.6"
  },
  "toc": {
   "base_numbering": 1,
   "nav_menu": {},
   "number_sections": true,
   "sideBar": true,
   "skip_h1_title": false,
   "title_cell": "Table of Contents",
   "title_sidebar": "Contents",
   "toc_cell": false,
   "toc_position": {},
   "toc_section_display": true,
   "toc_window_display": true
  }
 },
 "nbformat": 4,
 "nbformat_minor": 2
}
